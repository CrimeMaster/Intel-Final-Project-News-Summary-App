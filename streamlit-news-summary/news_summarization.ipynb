{
 "cells": [
  {
   "cell_type": "code",
   "execution_count": 1,
   "id": "f48ce0e2",
   "metadata": {},
   "outputs": [],
   "source": [
    "##Import Modules\n",
    "from bs4 import BeautifulSoup \n",
    "import requests\n",
    "import pandas as pd"
   ]
  },
  {
   "cell_type": "code",
   "execution_count": 2,
   "id": "81e7c3a4",
   "metadata": {},
   "outputs": [],
   "source": [
    "headers={'User-Agent':'Mozilla/5.0 (Windows NT 6.3; Win 64 ; x64) Apple WeKit /537.36(KHTML , like Gecko) Chrome/80.0.3987.162 Safari/537.36'} \n",
    "#-requests.get('url',headers=headers).text\n"
   ]
  },
  {
   "cell_type": "code",
   "execution_count": 3,
   "id": "7903ce77",
   "metadata": {},
   "outputs": [
    {
     "data": {
      "text/plain": [
       "<Response [200]>"
      ]
     },
     "execution_count": 3,
     "metadata": {},
     "output_type": "execute_result"
    }
   ],
   "source": [
    "url = \"https://indianexpress.com/elections/bjp-hyderabad-madhavi-latha-burqa-clad-women-voting-elections-9325267/\"\n",
    "page = requests.get(url, headers = headers)\n",
    "page"
   ]
  },
  {
   "cell_type": "code",
   "execution_count": 4,
   "id": "54ec870f",
   "metadata": {},
   "outputs": [],
   "source": [
    "def getSoup(url):\n",
    "    page = requests.get(url, headers = headers)\n",
    "    return BeautifulSoup(page.content, \"html.parser\")"
   ]
  },
  {
   "cell_type": "code",
   "execution_count": 5,
   "id": "3e24a449",
   "metadata": {},
   "outputs": [],
   "source": [
    "soup = BeautifulSoup(page.content, \"html.parser\")\n",
    "#print(soup.prettify())"
   ]
  },
  {
   "cell_type": "code",
   "execution_count": 6,
   "id": "9999a7e5",
   "metadata": {},
   "outputs": [
    {
     "name": "stdout",
     "output_type": "stream",
     "text": [
      "BJP’s Hyderabad nominee asks women in burqa to lift veil at booth; FIR filed\n"
     ]
    }
   ],
   "source": [
    "title = soup.find(\"h1\").get_text()\n",
    "print(title)"
   ]
  },
  {
   "cell_type": "code",
   "execution_count": 7,
   "id": "52ecf874",
   "metadata": {},
   "outputs": [
    {
     "name": "stdout",
     "output_type": "stream",
     "text": [
      "[<p>POLICE ON Monday filed an FIR against the BJP candidate from Hyderabad constituency, K Madhavi Latha, after a video emerged of her at a polling booth, checking the identity documents of women in burqa and asking them to lift their veil.</p>, <p>District electoral officer Ronald Ross instructed the police to lodge a complaint, following which a case was registered under IPC sections 171C (undue influence at an election), 186 (obstructing public servant), 505(1)(c) (intent to incite) and section 132 of the Representation of the People Act (misconduct at the polling station).</p>, <p>Latha is up against AIMIM chief <a class=\"\" href=\"https://indianexpress.com/about/asaduddin-owaisi/\" rel=\"noamphtml\">Asaduddin Owaisi</a>, who won the <a class=\"\" href=\"https://indianexpress.com/section/cities/hyderabad/\" rel=\"noamphtml\">Hyderabad</a> Lok Sabha seat by a sizeable margin in the 2019 polls.</p>, <p>Latha, who visited several polling booths after casting her vote at Amrita Vidyalaya, halted at a booth in Azampur, where she started checking IDs of women waiting to vote. In the video, she can be seen asking two burqa-clad women to lift their veil, which they do.</p>, <p dir=\"ltr\" lang=\"en\"><a class=\"\" href=\"https://twitter.com/hashtag/WATCH?src=hash&amp;ref_src=twsrc%5Etfw\" rel=\"nofollow, noopener\" target=\"_blank\">#WATCH</a> | <a class=\"\" href=\"https://indianexpress.com/article/when-is/telangana-lok-sabha-elections-2024-schedule-phase-seats-candidates-and-all-you-need-to-know-about-telangana-general-elections-9162957/\" rel=\"noamphtml\">Telangana</a>: <a class=\"\" href=\"https://indianexpress.com/about/bjp/\" rel=\"noamphtml\">BJP</a> candidate from Hyderabad Lok Sabha constituency, Madhavi Latha visits a polling booth in the constituency. Voting for the fourth phase of <a class=\"\" href=\"https://twitter.com/hashtag/LokSabhaElections2024?src=hash&amp;ref_src=twsrc%5Etfw\" rel=\"nofollow, noopener\" target=\"_blank\">#LokSabhaElections2024</a> is underway. <a class=\"\" href=\"https://t.co/BlsQXRn80C\" rel=\"nofollow, noopener\" target=\"_blank\">pic.twitter.com/BlsQXRn80C</a></p>, <p>— ANI (@ANI) <a class=\"\" href=\"https://twitter.com/ANI/status/1789890173053878438?ref_src=twsrc%5Etfw\" rel=\"nofollow, noopener\" target=\"_blank\">May 13, 2024</a></p>, <p>Latha also warned polling officials to allow voting only after properly checking ID cards.</p>, <p>She later claimed that there were discrepancies in the voter list and that the names of several voters were missing. “90% of the booths are compromised. Police do not want to instruct female constables to check the face (and match) with the voter ID,” she claimed. She also said that as a candidate, she has the right to check the ID of anyone with their face covered.</p>, <p>Latha is not new to controversy. On April 17, a video purportedly showed her symbolically shooting an arrow in the direction of a mosque during a RamNavami rally. She later apologised and claimed the video clip was incomplete.</p>, <p>As the video went viral on social media, Latha wrote on X, “It has come to my notice that one video of mine is being circulated in the media to create negativity. I would like to clarify that it is an incomplete view and even because of such a video, if anyone’s sentiments are hurt, I would like to apologise as I respect all individuals.”</p>, <p>In Telangana, brisk voting started at 7 am for 17 Lok Sabha constituencies. Over 62 per cent polling was recorded in Telangana.</p>, <p>In the Assembly elections held last November, the Congress had swept to power winning 64 seats while the BRS won 39, BJP 8 and AIMIM 7.</p>, <p class=\"home_shorts_article_summery\">Actor Jason Shah was immediately drawn to Bollywood after appearing as an extra in Salman Khan's Partner. He praised Salman's relaxed demeanor on set. Other co-stars have also shared stories of Salman's tardiness, with Kubbra Sait and Grusha Kapoor recalling waiting for hours on set.</p>, <p><a aria-label=\"Click here to know more about\" href=\"https://education.indianexpress.com/boards-exam/rbse-12th-board-results?utm_source=boardcampaign-Cbse300x100\" rel=\"noopener\" target=\"_blank\"><img alt=\"Indianexpress\" class=\"lazyloading\" data-src=\"//images.indianexpress.com/2021/08/Rajasthan-Class-12th-Board-Results-Announced ",
      "-300x100-1.png\" height=\"113\" src=\"https://indianexpress.com/wp-content/themes/indianexpress/images/default-ie.jpg\" style=\"padding: 0 0 15px 5px\" title=\"Indianexpress\" width=\"295\"/></a></p>, <p><a aria-label=\"Click here to know more about\" href=\"https://education.indianexpress.com/exam-alert-plus?whatsapp_onboard=true&amp;utm_source=campaign-IE300x100\" rel=\"noopener\" target=\"_blank\"><img alt=\"Indianexpress\" class=\"lazyloading\" data-src=\"//images.indianexpress.com/2021/08/Education-02-2.gif\" height=\"113\" src=\"https://indianexpress.com/wp-content/themes/indianexpress/images/default-ie.jpg\" style=\"padding: 0 0 15px 5px\" title=\"Indianexpress\" width=\"295\"/></a></p>]\n"
     ]
    }
   ],
   "source": [
    "all_paragraphs = soup.find_all('p')\n",
    "print(all_paragraphs)"
   ]
  },
  {
   "cell_type": "code",
   "execution_count": 8,
   "id": "40184805",
   "metadata": {},
   "outputs": [],
   "source": [
    "def allNews(soup):\n",
    "        all_paragraphs = soup.find_all('p')\n",
    "        news = []\n",
    "        for paragraph in all_paragraphs:\n",
    "            para = paragraph.get_text()\n",
    "            para = para.strip()\n",
    "            news.append(para)\n",
    "        return news"
   ]
  },
  {
   "cell_type": "code",
   "execution_count": 9,
   "id": "028b9dc2",
   "metadata": {},
   "outputs": [
    {
     "name": "stdout",
     "output_type": "stream",
     "text": [
      "['POLICE ON Monday filed an FIR against the BJP candidate from Hyderabad constituency, K Madhavi Latha, after a video emerged of her at a polling booth, checking the identity documents of women in burqa and asking them to lift their veil.', 'District electoral officer Ronald Ross instructed the police to lodge a complaint, following which a case was registered under IPC sections 171C (undue influence at an election), 186 (obstructing public servant), 505(1)(c) (intent to incite) and section 132 of the Representation of the People Act (misconduct at the polling station).', 'Latha is up against AIMIM chief Asaduddin Owaisi, who won the Hyderabad Lok Sabha seat by a sizeable margin in the 2019 polls.', 'Latha, who visited several polling booths after casting her vote at Amrita Vidyalaya, halted at a booth in Azampur, where she started checking IDs of women waiting to vote. In the video, she can be seen asking two burqa-clad women to lift their veil, which they do.', '#WATCH | Telangana: BJP candidate from Hyderabad Lok Sabha constituency, Madhavi Latha visits a polling booth in the constituency. Voting for the fourth phase of #LokSabhaElections2024 is underway. pic.twitter.com/BlsQXRn80C', '— ANI (@ANI) May 13, 2024', 'Latha also warned polling officials to allow voting only after properly checking ID cards.', 'She later claimed that there were discrepancies in the voter list and that the names of several voters were missing. “90% of the booths are compromised. Police do not want to instruct female constables to check the face (and match) with the voter ID,” she claimed. She also said that as a candidate, she has the right to check the ID of anyone with their face covered.', 'Latha is not new to controversy. On April 17, a video purportedly showed her symbolically shooting an arrow in the direction of a mosque during a RamNavami rally. She later apologised and claimed the video clip was incomplete.', 'As the video went viral on social media, Latha wrote on X, “It has come to my notice that one video of mine is being circulated in the media to create negativity. I would like to clarify that it is an incomplete view and even because of such a video, if anyone’s sentiments are hurt, I would like to apologise as I respect all individuals.”', 'In Telangana, brisk voting started at 7 am for 17 Lok Sabha constituencies. Over 62 per cent polling was recorded in Telangana.', 'In the Assembly elections held last November, the Congress had swept to power winning 64 seats while the BRS won 39, BJP 8 and AIMIM 7.', \"Actor Jason Shah was immediately drawn to Bollywood after appearing as an extra in Salman Khan's Partner. He praised Salman's relaxed demeanor on set. Other co-stars have also shared stories of Salman's tardiness, with Kubbra Sait and Grusha Kapoor recalling waiting for hours on set.\", '', '']\n"
     ]
    }
   ],
   "source": [
    "news = allNews(soup)\n",
    "print(news)"
   ]
  },
  {
   "cell_type": "code",
   "execution_count": 13,
   "id": "67652c6c",
   "metadata": {},
   "outputs": [
    {
     "name": "stdout",
     "output_type": "stream",
     "text": [
      "Defaulting to user installation because normal site-packages is not writeable\n",
      "Requirement already satisfied: spacy in c:\\users\\india ai data lab\\appdata\\roaming\\python\\python311\\site-packages (3.7.4)\n",
      "Requirement already satisfied: spacy-legacy<3.1.0,>=3.0.11 in c:\\users\\india ai data lab\\appdata\\roaming\\python\\python311\\site-packages (from spacy) (3.0.12)\n",
      "Requirement already satisfied: spacy-loggers<2.0.0,>=1.0.0 in c:\\users\\india ai data lab\\appdata\\roaming\\python\\python311\\site-packages (from spacy) (1.0.5)\n",
      "Requirement already satisfied: murmurhash<1.1.0,>=0.28.0 in c:\\users\\india ai data lab\\appdata\\roaming\\python\\python311\\site-packages (from spacy) (1.0.10)\n",
      "Requirement already satisfied: cymem<2.1.0,>=2.0.2 in c:\\users\\india ai data lab\\appdata\\roaming\\python\\python311\\site-packages (from spacy) (2.0.8)\n",
      "Requirement already satisfied: preshed<3.1.0,>=3.0.2 in c:\\users\\india ai data lab\\appdata\\roaming\\python\\python311\\site-packages (from spacy) (3.0.9)\n",
      "Requirement already satisfied: thinc<8.3.0,>=8.2.2 in c:\\users\\india ai data lab\\appdata\\roaming\\python\\python311\\site-packages (from spacy) (8.2.3)\n",
      "Requirement already satisfied: wasabi<1.2.0,>=0.9.1 in c:\\users\\india ai data lab\\appdata\\roaming\\python\\python311\\site-packages (from spacy) (1.1.2)\n",
      "Requirement already satisfied: srsly<3.0.0,>=2.4.3 in c:\\users\\india ai data lab\\appdata\\roaming\\python\\python311\\site-packages (from spacy) (2.4.8)\n",
      "Requirement already satisfied: catalogue<2.1.0,>=2.0.6 in c:\\users\\india ai data lab\\appdata\\roaming\\python\\python311\\site-packages (from spacy) (2.0.10)\n",
      "Requirement already satisfied: weasel<0.4.0,>=0.1.0 in c:\\users\\india ai data lab\\appdata\\roaming\\python\\python311\\site-packages (from spacy) (0.3.4)\n",
      "Requirement already satisfied: typer<0.10.0,>=0.3.0 in c:\\users\\india ai data lab\\appdata\\roaming\\python\\python311\\site-packages (from spacy) (0.9.4)\n",
      "Requirement already satisfied: smart-open<7.0.0,>=5.2.1 in c:\\programdata\\anaconda3\\lib\\site-packages (from spacy) (5.2.1)\n",
      "Requirement already satisfied: tqdm<5.0.0,>=4.38.0 in c:\\programdata\\anaconda3\\lib\\site-packages (from spacy) (4.65.0)\n",
      "Requirement already satisfied: requests<3.0.0,>=2.13.0 in c:\\programdata\\anaconda3\\lib\\site-packages (from spacy) (2.31.0)\n",
      "Requirement already satisfied: pydantic!=1.8,!=1.8.1,<3.0.0,>=1.7.4 in c:\\programdata\\anaconda3\\lib\\site-packages (from spacy) (1.10.8)\n",
      "Requirement already satisfied: jinja2 in c:\\programdata\\anaconda3\\lib\\site-packages (from spacy) (3.1.2)\n",
      "Requirement already satisfied: setuptools in c:\\programdata\\anaconda3\\lib\\site-packages (from spacy) (68.0.0)\n",
      "Requirement already satisfied: packaging>=20.0 in c:\\users\\india ai data lab\\appdata\\roaming\\python\\python311\\site-packages (from spacy) (23.2)\n",
      "Requirement already satisfied: langcodes<4.0.0,>=3.2.0 in c:\\users\\india ai data lab\\appdata\\roaming\\python\\python311\\site-packages (from spacy) (3.4.0)\n",
      "Requirement already satisfied: numpy>=1.19.0 in c:\\users\\india ai data lab\\appdata\\roaming\\python\\python311\\site-packages (from spacy) (1.23.5)\n",
      "Requirement already satisfied: language-data>=1.2 in c:\\users\\india ai data lab\\appdata\\roaming\\python\\python311\\site-packages (from langcodes<4.0.0,>=3.2.0->spacy) (1.2.0)\n",
      "Requirement already satisfied: typing-extensions>=4.2.0 in c:\\users\\india ai data lab\\appdata\\roaming\\python\\python311\\site-packages (from pydantic!=1.8,!=1.8.1,<3.0.0,>=1.7.4->spacy) (4.9.0)\n",
      "Requirement already satisfied: charset-normalizer<4,>=2 in c:\\programdata\\anaconda3\\lib\\site-packages (from requests<3.0.0,>=2.13.0->spacy) (2.0.4)\n",
      "Requirement already satisfied: idna<4,>=2.5 in c:\\programdata\\anaconda3\\lib\\site-packages (from requests<3.0.0,>=2.13.0->spacy) (3.4)\n",
      "Requirement already satisfied: urllib3<3,>=1.21.1 in c:\\programdata\\anaconda3\\lib\\site-packages (from requests<3.0.0,>=2.13.0->spacy) (1.26.16)\n",
      "Requirement already satisfied: certifi>=2017.4.17 in c:\\programdata\\anaconda3\\lib\\site-packages (from requests<3.0.0,>=2.13.0->spacy) (2023.7.22)\n",
      "Requirement already satisfied: blis<0.8.0,>=0.7.8 in c:\\users\\india ai data lab\\appdata\\roaming\\python\\python311\\site-packages (from thinc<8.3.0,>=8.2.2->spacy) (0.7.11)\n",
      "Requirement already satisfied: confection<1.0.0,>=0.0.1 in c:\\users\\india ai data lab\\appdata\\roaming\\python\\python311\\site-packages (from thinc<8.3.0,>=8.2.2->spacy) (0.1.4)\n",
      "Requirement already satisfied: colorama in c:\\users\\india ai data lab\\appdata\\roaming\\python\\python311\\site-packages (from tqdm<5.0.0,>=4.38.0->spacy) (0.4.6)\n",
      "Requirement already satisfied: click<9.0.0,>=7.1.1 in c:\\programdata\\anaconda3\\lib\\site-packages (from typer<0.10.0,>=0.3.0->spacy) (8.0.4)\n",
      "Requirement already satisfied: cloudpathlib<0.17.0,>=0.7.0 in c:\\users\\india ai data lab\\appdata\\roaming\\python\\python311\\site-packages (from weasel<0.4.0,>=0.1.0->spacy) (0.16.0)\n",
      "Requirement already satisfied: MarkupSafe>=2.0 in c:\\programdata\\anaconda3\\lib\\site-packages (from jinja2->spacy) (2.1.1)\n",
      "Requirement already satisfied: marisa-trie>=0.7.7 in c:\\users\\india ai data lab\\appdata\\roaming\\python\\python311\\site-packages (from language-data>=1.2->langcodes<4.0.0,>=3.2.0->spacy) (1.1.1)\n",
      "Defaulting to user installation because normal site-packages is not writeable\n",
      "Collecting en-core-web-sm==3.7.1\n",
      "  Downloading https://github.com/explosion/spacy-models/releases/download/en_core_web_sm-3.7.1/en_core_web_sm-3.7.1-py3-none-any.whl (12.8 MB)\n",
      "     ---------------------------------------- 0.0/12.8 MB ? eta -:--:--\n",
      "     ---------------------------------------- 0.0/12.8 MB 1.4 MB/s eta 0:00:10\n",
      "      --------------------------------------- 0.2/12.8 MB 3.8 MB/s eta 0:00:04\n",
      "     - -------------------------------------- 0.6/12.8 MB 6.1 MB/s eta 0:00:03\n",
      "     --- ------------------------------------ 1.0/12.8 MB 7.3 MB/s eta 0:00:02\n",
      "     ----- ---------------------------------- 1.6/12.8 MB 9.5 MB/s eta 0:00:02\n",
      "     ------- -------------------------------- 2.3/12.8 MB 10.7 MB/s eta 0:00:01\n",
      "     ---------- ----------------------------- 3.2/12.8 MB 12.9 MB/s eta 0:00:01\n",
      "     ------------ --------------------------- 4.1/12.8 MB 13.9 MB/s eta 0:00:01\n",
      "     ---------------- ----------------------- 5.2/12.8 MB 15.1 MB/s eta 0:00:01\n",
      "     -------------------- ------------------- 6.5/12.8 MB 17.2 MB/s eta 0:00:01\n",
      "     ---------------------- ----------------- 7.3/12.8 MB 17.2 MB/s eta 0:00:01\n",
      "     ------------------------- -------------- 8.2/12.8 MB 18.1 MB/s eta 0:00:01\n",
      "     ----------------------------- ---------- 9.6/12.8 MB 19.1 MB/s eta 0:00:01\n",
      "     -------------------------------- ------ 10.8/12.8 MB 23.4 MB/s eta 0:00:01\n",
      "     ----------------------------------- --- 11.7/12.8 MB 25.2 MB/s eta 0:00:01\n",
      "     --------------------------------------  12.5/12.8 MB 26.2 MB/s eta 0:00:01\n",
      "     --------------------------------------- 12.8/12.8 MB 23.3 MB/s eta 0:00:00\n",
      "Requirement already satisfied: spacy<3.8.0,>=3.7.2 in c:\\users\\india ai data lab\\appdata\\roaming\\python\\python311\\site-packages (from en-core-web-sm==3.7.1) (3.7.4)\n",
      "Requirement already satisfied: spacy-legacy<3.1.0,>=3.0.11 in c:\\users\\india ai data lab\\appdata\\roaming\\python\\python311\\site-packages (from spacy<3.8.0,>=3.7.2->en-core-web-sm==3.7.1) (3.0.12)\n",
      "Requirement already satisfied: spacy-loggers<2.0.0,>=1.0.0 in c:\\users\\india ai data lab\\appdata\\roaming\\python\\python311\\site-packages (from spacy<3.8.0,>=3.7.2->en-core-web-sm==3.7.1) (1.0.5)\n",
      "Requirement already satisfied: murmurhash<1.1.0,>=0.28.0 in c:\\users\\india ai data lab\\appdata\\roaming\\python\\python311\\site-packages (from spacy<3.8.0,>=3.7.2->en-core-web-sm==3.7.1) (1.0.10)\n",
      "Requirement already satisfied: cymem<2.1.0,>=2.0.2 in c:\\users\\india ai data lab\\appdata\\roaming\\python\\python311\\site-packages (from spacy<3.8.0,>=3.7.2->en-core-web-sm==3.7.1) (2.0.8)\n",
      "Requirement already satisfied: preshed<3.1.0,>=3.0.2 in c:\\users\\india ai data lab\\appdata\\roaming\\python\\python311\\site-packages (from spacy<3.8.0,>=3.7.2->en-core-web-sm==3.7.1) (3.0.9)\n",
      "Requirement already satisfied: thinc<8.3.0,>=8.2.2 in c:\\users\\india ai data lab\\appdata\\roaming\\python\\python311\\site-packages (from spacy<3.8.0,>=3.7.2->en-core-web-sm==3.7.1) (8.2.3)\n",
      "Requirement already satisfied: wasabi<1.2.0,>=0.9.1 in c:\\users\\india ai data lab\\appdata\\roaming\\python\\python311\\site-packages (from spacy<3.8.0,>=3.7.2->en-core-web-sm==3.7.1) (1.1.2)\n",
      "Requirement already satisfied: srsly<3.0.0,>=2.4.3 in c:\\users\\india ai data lab\\appdata\\roaming\\python\\python311\\site-packages (from spacy<3.8.0,>=3.7.2->en-core-web-sm==3.7.1) (2.4.8)\n",
      "Requirement already satisfied: catalogue<2.1.0,>=2.0.6 in c:\\users\\india ai data lab\\appdata\\roaming\\python\\python311\\site-packages (from spacy<3.8.0,>=3.7.2->en-core-web-sm==3.7.1) (2.0.10)\n",
      "Requirement already satisfied: weasel<0.4.0,>=0.1.0 in c:\\users\\india ai data lab\\appdata\\roaming\\python\\python311\\site-packages (from spacy<3.8.0,>=3.7.2->en-core-web-sm==3.7.1) (0.3.4)\n",
      "Requirement already satisfied: typer<0.10.0,>=0.3.0 in c:\\users\\india ai data lab\\appdata\\roaming\\python\\python311\\site-packages (from spacy<3.8.0,>=3.7.2->en-core-web-sm==3.7.1) (0.9.4)\n",
      "Requirement already satisfied: smart-open<7.0.0,>=5.2.1 in c:\\programdata\\anaconda3\\lib\\site-packages (from spacy<3.8.0,>=3.7.2->en-core-web-sm==3.7.1) (5.2.1)\n",
      "Requirement already satisfied: tqdm<5.0.0,>=4.38.0 in c:\\programdata\\anaconda3\\lib\\site-packages (from spacy<3.8.0,>=3.7.2->en-core-web-sm==3.7.1) (4.65.0)\n",
      "Requirement already satisfied: requests<3.0.0,>=2.13.0 in c:\\programdata\\anaconda3\\lib\\site-packages (from spacy<3.8.0,>=3.7.2->en-core-web-sm==3.7.1) (2.31.0)\n",
      "Requirement already satisfied: pydantic!=1.8,!=1.8.1,<3.0.0,>=1.7.4 in c:\\programdata\\anaconda3\\lib\\site-packages (from spacy<3.8.0,>=3.7.2->en-core-web-sm==3.7.1) (1.10.8)\n",
      "Requirement already satisfied: jinja2 in c:\\programdata\\anaconda3\\lib\\site-packages (from spacy<3.8.0,>=3.7.2->en-core-web-sm==3.7.1) (3.1.2)\n",
      "Requirement already satisfied: setuptools in c:\\programdata\\anaconda3\\lib\\site-packages (from spacy<3.8.0,>=3.7.2->en-core-web-sm==3.7.1) (68.0.0)\n",
      "Requirement already satisfied: packaging>=20.0 in c:\\users\\india ai data lab\\appdata\\roaming\\python\\python311\\site-packages (from spacy<3.8.0,>=3.7.2->en-core-web-sm==3.7.1) (23.2)\n",
      "Requirement already satisfied: langcodes<4.0.0,>=3.2.0 in c:\\users\\india ai data lab\\appdata\\roaming\\python\\python311\\site-packages (from spacy<3.8.0,>=3.7.2->en-core-web-sm==3.7.1) (3.4.0)\n",
      "Requirement already satisfied: numpy>=1.19.0 in c:\\users\\india ai data lab\\appdata\\roaming\\python\\python311\\site-packages (from spacy<3.8.0,>=3.7.2->en-core-web-sm==3.7.1) (1.23.5)\n",
      "Requirement already satisfied: language-data>=1.2 in c:\\users\\india ai data lab\\appdata\\roaming\\python\\python311\\site-packages (from langcodes<4.0.0,>=3.2.0->spacy<3.8.0,>=3.7.2->en-core-web-sm==3.7.1) (1.2.0)\n",
      "Requirement already satisfied: typing-extensions>=4.2.0 in c:\\users\\india ai data lab\\appdata\\roaming\\python\\python311\\site-packages (from pydantic!=1.8,!=1.8.1,<3.0.0,>=1.7.4->spacy<3.8.0,>=3.7.2->en-core-web-sm==3.7.1) (4.9.0)\n",
      "Requirement already satisfied: charset-normalizer<4,>=2 in c:\\programdata\\anaconda3\\lib\\site-packages (from requests<3.0.0,>=2.13.0->spacy<3.8.0,>=3.7.2->en-core-web-sm==3.7.1) (2.0.4)\n",
      "Requirement already satisfied: idna<4,>=2.5 in c:\\programdata\\anaconda3\\lib\\site-packages (from requests<3.0.0,>=2.13.0->spacy<3.8.0,>=3.7.2->en-core-web-sm==3.7.1) (3.4)\n",
      "Requirement already satisfied: urllib3<3,>=1.21.1 in c:\\programdata\\anaconda3\\lib\\site-packages (from requests<3.0.0,>=2.13.0->spacy<3.8.0,>=3.7.2->en-core-web-sm==3.7.1) (1.26.16)\n",
      "Requirement already satisfied: certifi>=2017.4.17 in c:\\programdata\\anaconda3\\lib\\site-packages (from requests<3.0.0,>=2.13.0->spacy<3.8.0,>=3.7.2->en-core-web-sm==3.7.1) (2023.7.22)\n",
      "Requirement already satisfied: blis<0.8.0,>=0.7.8 in c:\\users\\india ai data lab\\appdata\\roaming\\python\\python311\\site-packages (from thinc<8.3.0,>=8.2.2->spacy<3.8.0,>=3.7.2->en-core-web-sm==3.7.1) (0.7.11)\n",
      "Requirement already satisfied: confection<1.0.0,>=0.0.1 in c:\\users\\india ai data lab\\appdata\\roaming\\python\\python311\\site-packages (from thinc<8.3.0,>=8.2.2->spacy<3.8.0,>=3.7.2->en-core-web-sm==3.7.1) (0.1.4)\n",
      "Requirement already satisfied: colorama in c:\\users\\india ai data lab\\appdata\\roaming\\python\\python311\\site-packages (from tqdm<5.0.0,>=4.38.0->spacy<3.8.0,>=3.7.2->en-core-web-sm==3.7.1) (0.4.6)\n",
      "Requirement already satisfied: click<9.0.0,>=7.1.1 in c:\\programdata\\anaconda3\\lib\\site-packages (from typer<0.10.0,>=0.3.0->spacy<3.8.0,>=3.7.2->en-core-web-sm==3.7.1) (8.0.4)\n",
      "Requirement already satisfied: cloudpathlib<0.17.0,>=0.7.0 in c:\\users\\india ai data lab\\appdata\\roaming\\python\\python311\\site-packages (from weasel<0.4.0,>=0.1.0->spacy<3.8.0,>=3.7.2->en-core-web-sm==3.7.1) (0.16.0)\n",
      "Requirement already satisfied: MarkupSafe>=2.0 in c:\\programdata\\anaconda3\\lib\\site-packages (from jinja2->spacy<3.8.0,>=3.7.2->en-core-web-sm==3.7.1) (2.1.1)\n",
      "Requirement already satisfied: marisa-trie>=0.7.7 in c:\\users\\india ai data lab\\appdata\\roaming\\python\\python311\\site-packages (from language-data>=1.2->langcodes<4.0.0,>=3.2.0->spacy<3.8.0,>=3.7.2->en-core-web-sm==3.7.1) (1.1.1)\n",
      "Installing collected packages: en-core-web-sm\n",
      "Successfully installed en-core-web-sm-3.7.1\n",
      "\u001b[38;5;2m[+] Download and installation successful\u001b[0m\n",
      "You can now load the package via spacy.load('en_core_web_sm')\n"
     ]
    }
   ],
   "source": [
    "!pip install spacy\n",
    "!python -m spacy download en_core_web_sm"
   ]
  },
  {
   "cell_type": "code",
   "execution_count": 14,
   "id": "97ded8aa",
   "metadata": {},
   "outputs": [],
   "source": [
    "import spacy\n",
    "from spacy.lang.en.stop_words import STOP_WORDS\n",
    "from string import punctuation\n",
    "from heapq import nlargest"
   ]
  },
  {
   "cell_type": "code",
   "execution_count": 19,
   "id": "1251b243",
   "metadata": {},
   "outputs": [],
   "source": [
    "news = ' '.join(map(str, news))"
   ]
  },
  {
   "cell_type": "code",
   "execution_count": 20,
   "id": "db7ad83c",
   "metadata": {},
   "outputs": [],
   "source": [
    "stopwords = list(STOP_WORDS)\n",
    "nlp = spacy.load('en_core_web_sm')\n",
    "doc = nlp(news)\n",
    "tokens = [token.text for token in doc]\n",
    "word_freq = {}"
   ]
  },
  {
   "cell_type": "code",
   "execution_count": 24,
   "id": "67f89e08",
   "metadata": {},
   "outputs": [
    {
     "name": "stdout",
     "output_type": "stream",
     "text": [
      "14\n"
     ]
    }
   ],
   "source": [
    "for word in doc:\n",
    "        if word.text.lower() not in  stopwords and word.text.lower() not in punctuation:\n",
    "            if word.text not in word_freq.keys():\n",
    "                word_freq[word.text] = 1\n",
    "            else:\n",
    "                word_freq[word.text] += 1\n",
    "max_freq = max(word_freq.values())\n",
    "print(max_freq)"
   ]
  },
  {
   "cell_type": "code",
   "execution_count": 28,
   "id": "9ea1b59f",
   "metadata": {},
   "outputs": [
    {
     "name": "stdout",
     "output_type": "stream",
     "text": [
      "{'POLICE': 0.0007288629737609329, 'Monday': 0.0007288629737609329, 'filed': 0.0007288629737609329, 'FIR': 0.0007288629737609329, 'BJP': 0.002186588921282799, 'candidate': 0.002186588921282799, 'Hyderabad': 0.002186588921282799, 'constituency': 0.002186588921282799, 'K': 0.0007288629737609329, 'Madhavi': 0.0014577259475218659, 'Latha': 0.00510204081632653, 'video': 0.00510204081632653, 'emerged': 0.0007288629737609329, 'polling': 0.004373177842565598, 'booth': 0.002186588921282799, 'checking': 0.002186588921282799, 'identity': 0.0007288629737609329, 'documents': 0.0007288629737609329, 'women': 0.002186588921282799, 'burqa': 0.0014577259475218659, 'asking': 0.0014577259475218659, 'lift': 0.0014577259475218659, 'veil': 0.0014577259475218659, 'District': 0.0007288629737609329, 'electoral': 0.0007288629737609329, 'officer': 0.0007288629737609329, 'Ronald': 0.0007288629737609329, 'Ross': 0.0007288629737609329, 'instructed': 0.0007288629737609329, 'police': 0.0007288629737609329, 'lodge': 0.0007288629737609329, 'complaint': 0.0007288629737609329, 'following': 0.0007288629737609329, 'case': 0.0007288629737609329, 'registered': 0.0007288629737609329, 'IPC': 0.0007288629737609329, 'sections': 0.0007288629737609329, '171C': 0.0007288629737609329, 'undue': 0.0007288629737609329, 'influence': 0.0007288629737609329, 'election': 0.0007288629737609329, '186': 0.0007288629737609329, 'obstructing': 0.0007288629737609329, 'public': 0.0007288629737609329, 'servant': 0.0007288629737609329, '505(1)(c': 0.0007288629737609329, 'intent': 0.0007288629737609329, 'incite': 0.0007288629737609329, 'section': 0.0007288629737609329, '132': 0.0007288629737609329, 'Representation': 0.0007288629737609329, 'People': 0.0007288629737609329, 'Act': 0.0007288629737609329, 'misconduct': 0.0007288629737609329, 'station': 0.0007288629737609329, 'AIMIM': 0.0014577259475218659, 'chief': 0.0007288629737609329, 'Asaduddin': 0.0007288629737609329, 'Owaisi': 0.0007288629737609329, 'won': 0.0014577259475218659, 'Lok': 0.002186588921282799, 'Sabha': 0.002186588921282799, 'seat': 0.0007288629737609329, 'sizeable': 0.0007288629737609329, 'margin': 0.0007288629737609329, '2019': 0.0007288629737609329, 'polls': 0.0007288629737609329, 'visited': 0.0007288629737609329, 'booths': 0.0014577259475218659, 'casting': 0.0007288629737609329, 'vote': 0.0014577259475218659, 'Amrita': 0.0007288629737609329, 'Vidyalaya': 0.0007288629737609329, 'halted': 0.0007288629737609329, 'Azampur': 0.0007288629737609329, 'started': 0.0014577259475218659, 'IDs': 0.0007288629737609329, 'waiting': 0.0014577259475218659, 'seen': 0.0007288629737609329, 'clad': 0.0007288629737609329, 'WATCH': 0.0007288629737609329, 'Telangana': 0.002186588921282799, 'visits': 0.0007288629737609329, 'Voting': 0.0007288629737609329, 'fourth': 0.0007288629737609329, 'phase': 0.0007288629737609329, 'LokSabhaElections2024': 0.0007288629737609329, 'underway': 0.0007288629737609329, 'pic.twitter.com/BlsQXRn80C': 0.0007288629737609329, '—': 0.0007288629737609329, 'ANI': 0.0007288629737609329, '@ANI': 0.0007288629737609329, '13': 0.0007288629737609329, '2024': 0.0007288629737609329, 'warned': 0.0007288629737609329, 'officials': 0.0007288629737609329, 'allow': 0.0007288629737609329, 'voting': 0.0014577259475218659, 'properly': 0.0007288629737609329, 'ID': 0.002186588921282799, 'cards': 0.0007288629737609329, 'later': 0.0014577259475218659, 'claimed': 0.002186588921282799, 'discrepancies': 0.0007288629737609329, 'voter': 0.0014577259475218659, 'list': 0.0007288629737609329, 'names': 0.0007288629737609329, 'voters': 0.0007288629737609329, 'missing': 0.0007288629737609329, '“': 0.0014577259475218659, '90': 0.0007288629737609329, 'compromised': 0.0007288629737609329, 'Police': 0.0007288629737609329, 'want': 0.0007288629737609329, 'instruct': 0.0007288629737609329, 'female': 0.0007288629737609329, 'constables': 0.0007288629737609329, 'check': 0.0014577259475218659, 'face': 0.0014577259475218659, 'match': 0.0007288629737609329, '”': 0.0014577259475218659, 'said': 0.0007288629737609329, 'right': 0.0007288629737609329, 'covered': 0.0007288629737609329, 'new': 0.0007288629737609329, 'controversy': 0.0007288629737609329, 'April': 0.0007288629737609329, '17': 0.0014577259475218659, 'purportedly': 0.0007288629737609329, 'showed': 0.0007288629737609329, 'symbolically': 0.0007288629737609329, 'shooting': 0.0007288629737609329, 'arrow': 0.0007288629737609329, 'direction': 0.0007288629737609329, 'mosque': 0.0007288629737609329, 'RamNavami': 0.0007288629737609329, 'rally': 0.0007288629737609329, 'apologised': 0.0007288629737609329, 'clip': 0.0007288629737609329, 'incomplete': 0.0014577259475218659, 'went': 0.0007288629737609329, 'viral': 0.0007288629737609329, 'social': 0.0007288629737609329, 'media': 0.0014577259475218659, 'wrote': 0.0007288629737609329, 'X': 0.0007288629737609329, 'come': 0.0007288629737609329, 'notice': 0.0007288629737609329, 'circulated': 0.0007288629737609329, 'create': 0.0007288629737609329, 'negativity': 0.0007288629737609329, 'like': 0.0014577259475218659, 'clarify': 0.0007288629737609329, 'view': 0.0007288629737609329, 'sentiments': 0.0007288629737609329, 'hurt': 0.0007288629737609329, 'apologise': 0.0007288629737609329, 'respect': 0.0007288629737609329, 'individuals': 0.0007288629737609329, 'brisk': 0.0007288629737609329, '7': 0.0014577259475218659, 'constituencies': 0.0007288629737609329, '62': 0.0007288629737609329, 'cent': 0.0007288629737609329, 'recorded': 0.0007288629737609329, 'Assembly': 0.0007288629737609329, 'elections': 0.0007288629737609329, 'held': 0.0007288629737609329, 'November': 0.0007288629737609329, 'Congress': 0.0007288629737609329, 'swept': 0.0007288629737609329, 'power': 0.0007288629737609329, 'winning': 0.0007288629737609329, '64': 0.0007288629737609329, 'seats': 0.0007288629737609329, 'BRS': 0.0007288629737609329, '39': 0.0007288629737609329, '8': 0.0007288629737609329, 'Actor': 0.0007288629737609329, 'Jason': 0.0007288629737609329, 'Shah': 0.0007288629737609329, 'immediately': 0.0007288629737609329, 'drawn': 0.0007288629737609329, 'Bollywood': 0.0007288629737609329, 'appearing': 0.0007288629737609329, 'extra': 0.0007288629737609329, 'Salman': 0.002186588921282799, 'Khan': 0.0007288629737609329, 'Partner': 0.0007288629737609329, 'praised': 0.0007288629737609329, 'relaxed': 0.0007288629737609329, 'demeanor': 0.0007288629737609329, 'set': 0.0014577259475218659, 'co': 0.0007288629737609329, 'stars': 0.0007288629737609329, 'shared': 0.0007288629737609329, 'stories': 0.0007288629737609329, 'tardiness': 0.0007288629737609329, 'Kubbra': 0.0007288629737609329, 'Sait': 0.0007288629737609329, 'Grusha': 0.0007288629737609329, 'Kapoor': 0.0007288629737609329, 'recalling': 0.0007288629737609329, 'hours': 0.0007288629737609329, ' ': 0.0007288629737609329}\n"
     ]
    }
   ],
   "source": [
    "for word in word_freq.keys():\n",
    "        word_freq[word] = word_freq[word] / max_freq  # Normalizing the word frequency\n",
    "        sent_scores = {}\n",
    "sent_tokens = [sent for sent in doc.sents]\n",
    "print(word_freq)"
   ]
  },
  {
   "cell_type": "code",
   "execution_count": 52,
   "id": "8fccae5c",
   "metadata": {},
   "outputs": [
    {
     "data": {
      "text/html": [
       "<div>\n",
       "<style scoped>\n",
       "    .dataframe tbody tr th:only-of-type {\n",
       "        vertical-align: middle;\n",
       "    }\n",
       "\n",
       "    .dataframe tbody tr th {\n",
       "        vertical-align: top;\n",
       "    }\n",
       "\n",
       "    .dataframe thead th {\n",
       "        text-align: right;\n",
       "    }\n",
       "</style>\n",
       "<table border=\"1\" class=\"dataframe\">\n",
       "  <thead>\n",
       "    <tr style=\"text-align: right;\">\n",
       "      <th></th>\n",
       "      <th>Sentence</th>\n",
       "      <th>Scores</th>\n",
       "    </tr>\n",
       "  </thead>\n",
       "  <tbody>\n",
       "    <tr>\n",
       "      <th>0</th>\n",
       "      <td>(POLICE, ON, Monday, filed, an, FIR, against, ...</td>\n",
       "      <td>0.731050</td>\n",
       "    </tr>\n",
       "    <tr>\n",
       "      <th>1</th>\n",
       "      <td>(District, electoral, officer, Ronald, Ross, i...</td>\n",
       "      <td>0.284985</td>\n",
       "    </tr>\n",
       "    <tr>\n",
       "      <th>2</th>\n",
       "      <td>((, intent, to, incite, ), and, section, 132, ...</td>\n",
       "      <td>0.185860</td>\n",
       "    </tr>\n",
       "    <tr>\n",
       "      <th>3</th>\n",
       "      <td>(Latha, is, up, against, AIMIM, chief, Asadudd...</td>\n",
       "      <td>0.346939</td>\n",
       "    </tr>\n",
       "    <tr>\n",
       "      <th>4</th>\n",
       "      <td>(Latha, ,, who, visited, several, polling, boo...</td>\n",
       "      <td>0.483236</td>\n",
       "    </tr>\n",
       "    <tr>\n",
       "      <th>5</th>\n",
       "      <td>(In, the, video, ,, she, can, be, seen, asking...</td>\n",
       "      <td>0.247813</td>\n",
       "    </tr>\n",
       "    <tr>\n",
       "      <th>6</th>\n",
       "      <td>(#, WATCH, |, Telangana, :, BJP, candidate, fr...</td>\n",
       "      <td>0.545190</td>\n",
       "    </tr>\n",
       "    <tr>\n",
       "      <th>7</th>\n",
       "      <td>(Voting, for, the, fourth, phase, of, #, LokSa...</td>\n",
       "      <td>0.061953</td>\n",
       "    </tr>\n",
       "    <tr>\n",
       "      <th>8</th>\n",
       "      <td>(pic.twitter.com/BlsQXRn80C, —, ANI, (, @ANI, ...</td>\n",
       "      <td>0.396501</td>\n",
       "    </tr>\n",
       "    <tr>\n",
       "      <th>9</th>\n",
       "      <td>(She, later, claimed, that, there, were, discr...</td>\n",
       "      <td>0.148688</td>\n",
       "    </tr>\n",
       "    <tr>\n",
       "      <th>10</th>\n",
       "      <td>(“, 90, %, of, the, booths, are, compromised, .)</td>\n",
       "      <td>0.074344</td>\n",
       "    </tr>\n",
       "    <tr>\n",
       "      <th>11</th>\n",
       "      <td>(Police, do, not, want, to, instruct, female, ...</td>\n",
       "      <td>0.247813</td>\n",
       "    </tr>\n",
       "    <tr>\n",
       "      <th>12</th>\n",
       "      <td>(She, also, said, that, as, a, candidate, ,, s...</td>\n",
       "      <td>0.161079</td>\n",
       "    </tr>\n",
       "    <tr>\n",
       "      <th>13</th>\n",
       "      <td>(Latha, is, not, new, to, controversy, .)</td>\n",
       "      <td>0.111516</td>\n",
       "    </tr>\n",
       "    <tr>\n",
       "      <th>14</th>\n",
       "      <td>(On, April, 17, ,, a, video, purportedly, show...</td>\n",
       "      <td>0.235423</td>\n",
       "    </tr>\n",
       "    <tr>\n",
       "      <th>15</th>\n",
       "      <td>(She, later, apologised, and, claimed, the, vi...</td>\n",
       "      <td>0.198251</td>\n",
       "    </tr>\n",
       "    <tr>\n",
       "      <th>16</th>\n",
       "      <td>(As, the, video, went, viral, on, social, medi...</td>\n",
       "      <td>0.458455</td>\n",
       "    </tr>\n",
       "    <tr>\n",
       "      <th>17</th>\n",
       "      <td>(I, would, like, to, clarify, that, it, is, an...</td>\n",
       "      <td>0.272595</td>\n",
       "    </tr>\n",
       "    <tr>\n",
       "      <th>18</th>\n",
       "      <td>(In, Telangana, ,, brisk, voting, started, at,...</td>\n",
       "      <td>0.235423</td>\n",
       "    </tr>\n",
       "    <tr>\n",
       "      <th>19</th>\n",
       "      <td>(Over, 62, per, cent, polling, was, recorded, ...</td>\n",
       "      <td>0.148688</td>\n",
       "    </tr>\n",
       "    <tr>\n",
       "      <th>20</th>\n",
       "      <td>(In, the, Assembly, elections, held, last, Nov...</td>\n",
       "      <td>0.272595</td>\n",
       "    </tr>\n",
       "    <tr>\n",
       "      <th>21</th>\n",
       "      <td>(Actor, Jason, Shah, was, immediately, drawn, ...</td>\n",
       "      <td>0.161079</td>\n",
       "    </tr>\n",
       "    <tr>\n",
       "      <th>22</th>\n",
       "      <td>(He, praised, Salman, 's, relaxed, demeanor, o...</td>\n",
       "      <td>0.099125</td>\n",
       "    </tr>\n",
       "    <tr>\n",
       "      <th>23</th>\n",
       "      <td>(Other, co, -, stars, have, also, shared, stor...</td>\n",
       "      <td>0.235423</td>\n",
       "    </tr>\n",
       "  </tbody>\n",
       "</table>\n",
       "</div>"
      ],
      "text/plain": [
       "                                             Sentence    Scores\n",
       "0   (POLICE, ON, Monday, filed, an, FIR, against, ...  0.731050\n",
       "1   (District, electoral, officer, Ronald, Ross, i...  0.284985\n",
       "2   ((, intent, to, incite, ), and, section, 132, ...  0.185860\n",
       "3   (Latha, is, up, against, AIMIM, chief, Asadudd...  0.346939\n",
       "4   (Latha, ,, who, visited, several, polling, boo...  0.483236\n",
       "5   (In, the, video, ,, she, can, be, seen, asking...  0.247813\n",
       "6   (#, WATCH, |, Telangana, :, BJP, candidate, fr...  0.545190\n",
       "7   (Voting, for, the, fourth, phase, of, #, LokSa...  0.061953\n",
       "8   (pic.twitter.com/BlsQXRn80C, —, ANI, (, @ANI, ...  0.396501\n",
       "9   (She, later, claimed, that, there, were, discr...  0.148688\n",
       "10   (“, 90, %, of, the, booths, are, compromised, .)  0.074344\n",
       "11  (Police, do, not, want, to, instruct, female, ...  0.247813\n",
       "12  (She, also, said, that, as, a, candidate, ,, s...  0.161079\n",
       "13          (Latha, is, not, new, to, controversy, .)  0.111516\n",
       "14  (On, April, 17, ,, a, video, purportedly, show...  0.235423\n",
       "15  (She, later, apologised, and, claimed, the, vi...  0.198251\n",
       "16  (As, the, video, went, viral, on, social, medi...  0.458455\n",
       "17  (I, would, like, to, clarify, that, it, is, an...  0.272595\n",
       "18  (In, Telangana, ,, brisk, voting, started, at,...  0.235423\n",
       "19  (Over, 62, per, cent, polling, was, recorded, ...  0.148688\n",
       "20  (In, the, Assembly, elections, held, last, Nov...  0.272595\n",
       "21  (Actor, Jason, Shah, was, immediately, drawn, ...  0.161079\n",
       "22  (He, praised, Salman, 's, relaxed, demeanor, o...  0.099125\n",
       "23  (Other, co, -, stars, have, also, shared, stor...  0.235423"
      ]
     },
     "execution_count": 52,
     "metadata": {},
     "output_type": "execute_result"
    }
   ],
   "source": [
    "import itertools \n",
    "\n",
    "for sent in sent_tokens:\n",
    "        for word in sent:\n",
    "            if word.text in word_freq.keys():\n",
    "                if sent not in sent_scores.keys():\n",
    "                    sent_scores[sent] = word_freq[word.text]\n",
    "                else:\n",
    "                    sent_scores[sent] += word_freq[word.text]\n",
    "                    \n",
    "\n",
    "dictToDf(sent_scores)"
   ]
  },
  {
   "cell_type": "code",
   "execution_count": 51,
   "id": "5cd7cab2",
   "metadata": {},
   "outputs": [],
   "source": [
    "def dictToDf(dictionary):\n",
    "    my_series = pd.Series(dictionary, name='Scores')\n",
    "\n",
    "    # Reset the index to get a DataFrame\n",
    "    df_from_series = my_series.reset_index()\n",
    "    df_from_series.columns = ['Sentence', 'Scores']\n",
    "\n",
    "    # Return Dataframe\n",
    "    return df_from_series"
   ]
  },
  {
   "cell_type": "code",
   "execution_count": 63,
   "id": "6d0292b2",
   "metadata": {},
   "outputs": [
    {
     "name": "stdout",
     "output_type": "stream",
     "text": [
      "POLICE ON Monday filed an FIR against the BJP candidate from Hyderabad constituency, K Madhavi Latha, after a video emerged of her at a polling booth, checking the identity documents of women in burqa and asking them to lift their veil. #WATCH | Telangana: BJP candidate from Hyderabad Lok Sabha constituency, Madhavi Latha visits a polling booth in the constituency. Latha, who visited several polling booths after casting her vote at Amrita Vidyalaya, halted at a booth in Azampur, where she started checking IDs of women waiting to vote. As the video went viral on social media, Latha wrote on X, “It has come to my notice that one video of mine is being circulated in the media to create negativity. pic.twitter.com/BlsQXRn80C — ANI (@ANI) May 13, 2024 Latha also warned polling officials to allow voting only after properly checking ID cards. Latha is up against AIMIM chief Asaduddin Owaisi, who won the Hyderabad Lok Sabha seat by a sizeable margin in the 2019 polls. District electoral officer Ronald Ross instructed the police to lodge a complaint, following which a case was registered under IPC sections 171C (undue influence at an election), 186 (obstructing public servant), 505(1)(c)\n",
      "1197\n"
     ]
    }
   ],
   "source": [
    "select_len = int(len(sent_tokens) * 0.3)\n",
    "summary = nlargest(select_len, sent_scores, key = sent_scores.get)\n",
    "final_summary = [word.text for word in summary]\n",
    "summary = ' '.join(final_summary)\n",
    "\n",
    "return summary, doc, len(rawdocs.split(' ')), len(summary.split(' '))"
   ]
  },
  {
   "cell_type": "code",
   "execution_count": 65,
   "id": "be68f937",
   "metadata": {},
   "outputs": [
    {
     "name": "stdout",
     "output_type": "stream",
     "text": [
      "POLICE ON Monday filed an FIR against the BJP candidate from Hyderabad constituency, K Madhavi Latha, after a video emerged of her at a polling booth, checking the identity documents of women in burqa and asking them to lift their veil. District electoral officer Ronald Ross instructed the police to lodge a complaint, following which a case was registered under IPC sections 171C (undue influence at an election), 186 (obstructing public servant), 505(1)(c) (intent to incite) and section 132 of the Representation of the People Act (misconduct at the polling station). Latha is up against AIMIM chief Asaduddin Owaisi, who won the Hyderabad Lok Sabha seat by a sizeable margin in the 2019 polls. Latha, who visited several polling booths after casting her vote at Amrita Vidyalaya, halted at a booth in Azampur, where she started checking IDs of women waiting to vote. In the video, she can be seen asking two burqa-clad women to lift their veil, which they do. #WATCH | Telangana: BJP candidate from Hyderabad Lok Sabha constituency, Madhavi Latha visits a polling booth in the constituency. Voting for the fourth phase of #LokSabhaElections2024 is underway. pic.twitter.com/BlsQXRn80C — ANI (@ANI) May 13, 2024 Latha also warned polling officials to allow voting only after properly checking ID cards. She later claimed that there were discrepancies in the voter list and that the names of several voters were missing. “90% of the booths are compromised. Police do not want to instruct female constables to check the face (and match) with the voter ID,” she claimed. She also said that as a candidate, she has the right to check the ID of anyone with their face covered. Latha is not new to controversy. On April 17, a video purportedly showed her symbolically shooting an arrow in the direction of a mosque during a RamNavami rally. She later apologised and claimed the video clip was incomplete. As the video went viral on social media, Latha wrote on X, “It has come to my notice that one video of mine is being circulated in the media to create negativity. I would like to clarify that it is an incomplete view and even because of such a video, if anyone’s sentiments are hurt, I would like to apologise as I respect all individuals.” In Telangana, brisk voting started at 7 am for 17 Lok Sabha constituencies. Over 62 per cent polling was recorded in Telangana. In the Assembly elections held last November, the Congress had swept to power winning 64 seats while the BRS won 39, BJP 8 and AIMIM 7. Actor Jason Shah was immediately drawn to Bollywood after appearing as an extra in Salman Khan's Partner. He praised Salman's relaxed demeanor on set. Other co-stars have also shared stories of Salman's tardiness, with Kubbra Sait and Grusha Kapoor recalling waiting for hours on set.  \n"
     ]
    }
   ],
   "source": [
    "print(news)"
   ]
  },
  {
   "cell_type": "code",
   "execution_count": 64,
   "id": "e9446f95",
   "metadata": {},
   "outputs": [
    {
     "name": "stdout",
     "output_type": "stream",
     "text": [
      "2794\n"
     ]
    }
   ],
   "source": [
    "print(len(news))"
   ]
  },
  {
   "cell_type": "code",
   "execution_count": 62,
   "id": "ee0c5f08",
   "metadata": {},
   "outputs": [
    {
     "name": "stdout",
     "output_type": "stream",
     "text": [
      "1197\n"
     ]
    }
   ],
   "source": [
    "print(len(summary))"
   ]
  },
  {
   "cell_type": "code",
   "execution_count": null,
   "id": "c2e51404",
   "metadata": {},
   "outputs": [],
   "source": []
  }
 ],
 "metadata": {
  "kernelspec": {
   "display_name": "Python 3 (ipykernel)",
   "language": "python",
   "name": "python3"
  },
  "language_info": {
   "codemirror_mode": {
    "name": "ipython",
    "version": 3
   },
   "file_extension": ".py",
   "mimetype": "text/x-python",
   "name": "python",
   "nbconvert_exporter": "python",
   "pygments_lexer": "ipython3",
   "version": "3.11.5"
  }
 },
 "nbformat": 4,
 "nbformat_minor": 5
}
